{
 "cells": [
  {
   "cell_type": "code",
   "execution_count": 12,
   "metadata": {},
   "outputs": [],
   "source": [
    "import os\n",
    "google_api_key = os.getenv(\"MY_GOOGLE_AI_STUDIO_KEY\")  # Fetch secret from env variable"
   ]
  },
  {
   "cell_type": "code",
   "execution_count": null,
   "metadata": {},
   "outputs": [],
   "source": [
    "# Write code to get a gemini model\n",
    "import google.generativeai as genai\n",
    "genai.configure(api_key=google_api_key)\n",
    "model = genai.GenerativeModel('gemini-2.0-flash-exp')\n",
    "response = model.generate_content(\"Explain how AI works\")\n",
    "print(response.text)"
   ]
  },
  {
   "cell_type": "code",
   "execution_count": null,
   "metadata": {},
   "outputs": [],
   "source": [
    "def get_files_in_folder(root_dir):    \n",
    "    \"\"\"Recursively scan a folder and return list of files with full paths\"\"\"\n",
    "    import os\n",
    "    file_list = []\n",
    "    for dirpath, _, filenames in os.walk(root_dir):\n",
    "        for filename in filenames:\n",
    "            full_path = os.path.join(dirpath, filename)\n",
    "            file_list.append(full_path)\n",
    "    return file_list"
   ]
  },
  {
   "cell_type": "code",
   "execution_count": null,
   "metadata": {},
   "outputs": [],
   "source": [
    "def get_file_types(file_list):    \n",
    "    \"\"\"Return dictionary mapping filenames to their file extensions.\"\"\"\n",
    "    import os\n",
    "    type_dict = {}\n",
    "    for file_path in file_list:\n",
    "        # Split the file extension from the path\n",
    "        _, ext = os.path.splitext(file_path)\n",
    "        # Remove leading dot and convert to lowercase for consistency\n",
    "        clean_ext = ext.lower().lstrip('.') if ext else 'no_extension'\n",
    "        type_dict[file_path] = clean_ext\n",
    "    return type_dict"
   ]
  },
  {
   "cell_type": "code",
   "execution_count": 1,
   "metadata": {},
   "outputs": [],
   "source": [
    "def organize_files(type_dict):\n",
    "    \"\"\"Organize files into folders based on their type in their respective directories.\"\"\"\n",
    "    import os\n",
    "    import shutil\n",
    "    \n",
    "    for file_path, file_type in type_dict.items():\n",
    "        # Get parent directory and filename\n",
    "        parent_dir = os.path.dirname(file_path)\n",
    "        filename = os.path.basename(file_path)\n",
    "        \n",
    "        # Create target directory name (pluralize for readability)\n",
    "        target_dir_name = f\"{file_type}s\"  # Example: 'pdf' becomes 'pdfs'\n",
    "        target_dir = os.path.join(parent_dir, target_dir_name)\n",
    "        \n",
    "        # Create target directory if it doesn't exist\n",
    "        os.makedirs(target_dir, exist_ok=True)\n",
    "        \n",
    "        # Construct full target path\n",
    "        target_path = os.path.join(target_dir, filename)\n",
    "        \n",
    "        # Only move if source and target paths are different\n",
    "        if file_path != target_path:\n",
    "            try:\n",
    "                shutil.move(file_path, target_path)\n",
    "                print(f\"Moved: {filename} -> {target_dir_name}/\")\n",
    "            except Exception as e:\n",
    "                print(f\"Error moving {filename}: {str(e)}\")\n"
   ]
  },
  {
   "cell_type": "code",
   "execution_count": 17,
   "metadata": {},
   "outputs": [],
   "source": [
    "task = '''scans a folder called MyDownlads, identify file types and \n",
    "move them into categorized folders (e.g., PDFs, images, code files, etc)'''"
   ]
  },
  {
   "cell_type": "code",
   "execution_count": 20,
   "metadata": {},
   "outputs": [],
   "source": [
    "prompt = f'''You are a AI assistant. Your job is to break a task into smaller \n",
    " tasks that could be executed as code. Do not write the code, but just list the tasks as steps. Here is your task -\n",
    "   {task}'''"
   ]
  },
  {
   "cell_type": "code",
   "execution_count": 21,
   "metadata": {},
   "outputs": [
    {
     "name": "stdout",
     "output_type": "stream",
     "text": [
      "Okay, I can help break that task down into smaller steps:\n",
      "\n",
      "1.  **Set up the Environment:**\n",
      "    *   Import necessary Python libraries (e.g., `os`, `shutil`, `mimetypes`).\n",
      "    *   Define the source folder (MyDownloads) path.\n",
      "    *   Define a dictionary or data structure to map file extensions to category folder names (e.g., {\".pdf\": \"PDFs\", \".jpg\": \"Images\", \".py\": \"Code\"}).\n",
      "\n",
      "2.  **Folder Structure Validation:**\n",
      "    *   Check if the source folder (MyDownloads) exists. If not, handle the error (e.g., print an error message and exit or create the folder).\n",
      "    *   Create destination folders for each file category (e.g., PDFs, Images, Code) within the same parent directory as the source folder, if they don't already exist.\n",
      "\n",
      "3.  **File Iteration and Analysis:**\n",
      "    *   Iterate through all files within the source folder.\n",
      "    *   For each file:\n",
      "        *   Extract the file extension.\n",
      "        *   Determine the file type (e.g., using `mimetypes.guess_type` or by checking the file extension against the mapping defined in step 1).\n",
      "\n",
      "4.  **File Categorization and Movement:**\n",
      "    *   Based on the determined file type/extension, identify the appropriate destination folder.\n",
      "    *   Construct the full destination path (destination folder + filename).\n",
      "    *   Move the file from the source folder to the destination folder using `shutil.move` or `shutil.copy`.\n",
      "    *   Handle potential errors during the move process (e.g., file already exists, permission errors).\n",
      "\n",
      "5.  **Logging and Reporting (Optional):**\n",
      "    *   Log the actions taken (e.g., \"Moved file X to folder Y\").\n",
      "    *   Provide a summary of the operation (e.g., \"Moved X files in total\").\n",
      "\n",
      "6. **Post-processing cleanup (Optional):**\n",
      "    * Check if the source directory is empty\n",
      "    * If so, delete it\n",
      "\n",
      "\n"
     ]
    }
   ],
   "source": [
    "response = model.generate_content(prompt)\n",
    "print(response.text)"
   ]
  },
  {
   "cell_type": "code",
   "execution_count": 22,
   "metadata": {},
   "outputs": [],
   "source": [
    "# Write code to get a gemini model\n",
    "import google.generativeai as genai\n",
    "genai.configure(api_key=\"google_api_key\")\n",
    "model_getFunctions = genai.GenerativeModel('gemini-2.0-flash-exp')\n"
   ]
  },
  {
   "cell_type": "code",
   "execution_count": 23,
   "metadata": {},
   "outputs": [],
   "source": [
    "functions = '''\n",
    "def get_files_in_folder(root_dir):    \n",
    "    \"\"\"Recursively scan a folder and return list of files with full paths\"\"\" \n",
    "    \n",
    "def get_file_types(file_list):    \n",
    "    \"\"\"Return dictionary mapping filenames to their file extensions.\"\"\"\n",
    "\n",
    "def organize_files(type_dict):\n",
    "    \"\"\"Organize files into folders based on their type in their respective directories.\"\"\"\n",
    "  \n",
    "    \n",
    "    \n",
    "'''"
   ]
  },
  {
   "cell_type": "code",
   "execution_count": 28,
   "metadata": {},
   "outputs": [],
   "source": [
    "prompt2 = f'''You are a AI assistant. You are given some steps. \n",
    "Your job is to get the function calls for these steps from the list of functions below. \n",
    "For each step give me the function that you would call along with parameters. \n",
    "You shall only use the functions mentioned here and you shall not write your own code. \n",
    "Here are your steps - {response.text} ; and\n",
    "here are your functions - {functions}'''"
   ]
  },
  {
   "cell_type": "code",
   "execution_count": 29,
   "metadata": {},
   "outputs": [],
   "source": [
    "response2 = model_getFunctions.generate_content(prompt2)"
   ]
  },
  {
   "cell_type": "code",
   "execution_count": 30,
   "metadata": {},
   "outputs": [
    {
     "name": "stdout",
     "output_type": "stream",
     "text": [
      "Okay, I understand the steps and the available functions. Here's the breakdown of function calls for each step:\n",
      "\n",
      "**1. Set up the Environment:**\n",
      "\n",
      "*   This step doesn't directly involve any of the provided functions. It's about setting up the environment within the main script (importing libraries, defining paths, and creating the extension-to-category mapping). No function call needed here.\n",
      "\n",
      "**2. Folder Structure Validation:**\n",
      "\n",
      "*   This step also doesn't directly involve any of the provided functions. It's about validating the source folder and creating destination folders. No function call needed here.\n",
      "\n",
      "**3. File Iteration and Analysis:**\n",
      "\n",
      "*   **Call:** `get_files_in_folder(root_dir)`\n",
      "    *   **Parameter:** `root_dir` - This would be the path to the \"MyDownloads\" folder.\n",
      "    *   **Purpose:** This function retrieves a list of all files within the source folder.\n",
      "*   **Call:** `get_file_types(file_list)`\n",
      "    *   **Parameter:** `file_list` - This would be the list of files returned by `get_files_in_folder`.\n",
      "    *   **Purpose:** This function extracts the file extensions and creates a dictionary mapping filenames to their extensions.\n",
      "\n",
      "**4. File Categorization and Movement:**\n",
      "\n",
      "*   **Call:** `organize_files(type_dict)`\n",
      "    *   **Parameter:** `type_dict` - This would be the dictionary returned by `get_file_types`.\n",
      "    *   **Purpose:** This function moves the files to their respective category folders based on the file types in the provided dictionary.\n",
      "\n",
      "**5. Logging and Reporting (Optional):**\n",
      "\n",
      "*   This step doesn't directly involve any of the provided functions. This would typically involve `print` statements or writing to a log file within the main script. No function call needed here.\n",
      "\n",
      "**6. Post-processing cleanup (Optional):**\n",
      "\n",
      "*   This step doesn't directly involve any of the provided functions. This would involve checking if the source directory is empty and deleting the directory, which would typically happen with os commands in the main script. No function call needed here.\n",
      "\n"
     ]
    }
   ],
   "source": [
    "print(response2.text)"
   ]
  },
  {
   "cell_type": "code",
   "execution_count": null,
   "metadata": {},
   "outputs": [],
   "source": []
  }
 ],
 "metadata": {
  "kernelspec": {
   "display_name": "Python 3",
   "language": "python",
   "name": "python3"
  },
  "language_info": {
   "codemirror_mode": {
    "name": "ipython",
    "version": 3
   },
   "file_extension": ".py",
   "mimetype": "text/x-python",
   "name": "python",
   "nbconvert_exporter": "python",
   "pygments_lexer": "ipython3",
   "version": "3.11.3"
  }
 },
 "nbformat": 4,
 "nbformat_minor": 2
}
