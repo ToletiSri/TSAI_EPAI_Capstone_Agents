{
 "cells": [
  {
   "cell_type": "code",
   "execution_count": 1,
   "metadata": {},
   "outputs": [],
   "source": [
    "import os\n",
    "google_api_key = os.getenv(\"MY_GOOGLE_AI_STUDIO_KEY\")  # Fetch secret from env variable"
   ]
  },
  {
   "cell_type": "code",
   "execution_count": 2,
   "metadata": {},
   "outputs": [],
   "source": [
    "# Write code to get gemini models\n",
    "import google.generativeai as genai\n",
    "genai.configure(api_key = google_api_key)\n",
    "model = genai.GenerativeModel('gemini-2.0-flash-exp')\n",
    "model_getFunctions = genai.GenerativeModel('gemini-2.0-flash-exp')"
   ]
  },
  {
   "cell_type": "code",
   "execution_count": 3,
   "metadata": {},
   "outputs": [],
   "source": [
    "def get_files_in_folder(root_dir):    \n",
    "    \"\"\"Recursively scan a folder and return list of files with full paths\"\"\"\n",
    "    import os\n",
    "    file_list = []\n",
    "    for dirpath, _, filenames in os.walk(root_dir):\n",
    "        for filename in filenames:\n",
    "            full_path = os.path.join(dirpath, filename)\n",
    "            file_list.append(full_path)\n",
    "    return file_list"
   ]
  },
  {
   "cell_type": "code",
   "execution_count": 4,
   "metadata": {},
   "outputs": [],
   "source": [
    "def get_file_types(file_list):    \n",
    "    \"\"\"Return dictionary mapping filenames to their file extensions.\"\"\"\n",
    "    import os\n",
    "    type_dict = {}\n",
    "    for file_path in file_list:\n",
    "        # Split the file extension from the path\n",
    "        _, ext = os.path.splitext(file_path)\n",
    "        # Remove leading dot and convert to lowercase for consistency\n",
    "        clean_ext = ext.lower().lstrip('.') if ext else 'no_extension'\n",
    "        type_dict[file_path] = clean_ext\n",
    "    return type_dict"
   ]
  },
  {
   "cell_type": "code",
   "execution_count": 5,
   "metadata": {},
   "outputs": [],
   "source": [
    "def organize_files(type_dict):\n",
    "    \"\"\"Organize files into folders based on their type in their respective directories.\"\"\"\n",
    "    import os\n",
    "    import shutil\n",
    "    \n",
    "    for file_path, file_type in type_dict.items():\n",
    "        # Get parent directory and filename\n",
    "        parent_dir = os.path.dirname(file_path)\n",
    "        filename = os.path.basename(file_path)\n",
    "        \n",
    "        # Create target directory name (pluralize for readability)\n",
    "        target_dir_name = f\"{file_type}s\"  # Example: 'pdf' becomes 'pdfs'\n",
    "        target_dir = os.path.join(parent_dir, target_dir_name)\n",
    "        \n",
    "        # Create target directory if it doesn't exist\n",
    "        os.makedirs(target_dir, exist_ok=True)\n",
    "        \n",
    "        # Construct full target path\n",
    "        target_path = os.path.join(target_dir, filename)\n",
    "        \n",
    "        # Only move if source and target paths are different\n",
    "        if file_path != target_path:\n",
    "            try:\n",
    "                shutil.move(file_path, target_path)\n",
    "                print(f\"Moved: {filename} -> {target_dir_name}/\")\n",
    "            except Exception as e:\n",
    "                print(f\"Error moving {filename}: {str(e)}\")\n"
   ]
  },
  {
   "cell_type": "code",
   "execution_count": 6,
   "metadata": {},
   "outputs": [],
   "source": [
    "functions = '''\n",
    "def get_files_in_folder(root_dir):    \n",
    "    \"\"\"Recursively scan a folder and return list of files with full paths\"\"\" \n",
    "    \n",
    "def get_file_types(file_list):    \n",
    "    \"\"\"Return dictionary mapping filenames to their file extensions.\"\"\"\n",
    "\n",
    "def organize_files(type_dict):\n",
    "    \"\"\"Organize files into folders based on their type in their respective directories.\"\"\"\n",
    "  \n",
    "    \n",
    "    \n",
    "'''"
   ]
  },
  {
   "cell_type": "code",
   "execution_count": 14,
   "metadata": {},
   "outputs": [
    {
     "name": "stdout",
     "output_type": "stream",
     "text": [
      "Running on local URL:  http://127.0.0.1:7867\n",
      "\n",
      "To create a public link, set `share=True` in `launch()`.\n"
     ]
    },
    {
     "data": {
      "text/html": [
       "<div><iframe src=\"http://127.0.0.1:7867/\" width=\"100%\" height=\"500\" allow=\"autoplay; camera; microphone; clipboard-read; clipboard-write;\" frameborder=\"0\" allowfullscreen></iframe></div>"
      ],
      "text/plain": [
       "<IPython.core.display.HTML object>"
      ]
     },
     "metadata": {},
     "output_type": "display_data"
    },
    {
     "data": {
      "text/plain": []
     },
     "execution_count": 14,
     "metadata": {},
     "output_type": "execute_result"
    },
    {
     "name": "stdout",
     "output_type": "stream",
     "text": [
      "IMPORTANT: You are using gradio version 3.40.1, however version 4.44.1 is available, please upgrade.\n",
      "--------\n",
      "source_folder = \"MyDownloads\"\n",
      "extension_mapping = {\".pdf\": \"PDFs\", \".jpg\": \"Images\", \".py\": \"Code\"}\n",
      "\n",
      "file_list = get_files_in_folder(source_folder)\n",
      "type_dict = get_file_types(file_list)\n",
      "organize_files(type_dict)\n",
      "Moved: RyanHoliday15Books.pdf -> pdfs/\n"
     ]
    }
   ],
   "source": [
    "import gradio as gr\n",
    "\n",
    "def process_input(option, text):\n",
    "    if not option:\n",
    "        return \"Please select an option\", \"from the dropbox\"\n",
    "    \n",
    "    prompt = f'''You are a AI assistant. Your job is to break a task into smaller \n",
    "    tasks that could be executed as code. Do not write the code, but just list the tasks as steps.\n",
    "    Here is your task - {option}'''\n",
    "\n",
    "    response = model.generate_content(prompt)    \n",
    "    output1 = response.text\n",
    "\n",
    "    prompt2 = f'''You are a AI assistant. You are given some steps. \n",
    "    Your job is to get the function calls for these steps from the list of functions below. \n",
    "    Give me an executable python code that uses these functions. Just make the function calls. \n",
    "    Do not write any code within these functions. Do not strictly write any other code apart from the function calls. \n",
    "    However you are allowed to save the output of these functions into variables and use them as input parameters to other functions. \n",
    "    You shall only use the functions mentioned here and you shall not write your own code. \n",
    "    Your code should strictly not use any other functions apart from functions mentioned below. \n",
    "    Here are your steps - {response.text} ; and\n",
    "    here are your functions - {functions}'''\n",
    "\n",
    "    response2 = model_getFunctions.generate_content(prompt2)\n",
    "\n",
    "    \n",
    "    output2 = response2.text\n",
    "    return output1, output2\n",
    "\n",
    "def handle_execute(code):\n",
    "    model_formatCode = genai.GenerativeModel('gemini-2.0-flash-exp')\n",
    "    if not code:\n",
    "        print(\"Empty String - nothing to be executed\")\n",
    "    else:\n",
    "        # Split into lines, remove first and last, then join back\n",
    "        lines = code.splitlines()\n",
    "        cleaned_code = \"\\n\".join(lines[1:-1])\n",
    "        print(cleaned_code)\n",
    "        exec(cleaned_code)\n",
    "        \n",
    "with gr.Blocks() as demo:\n",
    "    gr.Markdown(\"# EPAI Capstone - Agents\")\n",
    "    gr.Markdown('''This capstone demonstrate how agents work internally. This project accepts a user input, \n",
    "    breaks them into smaller tasks. Chooses from a predefined set of functions(tools) that correspond to these smaller tasks, \n",
    "    and,  finally executes all the functions. \\n\\n Here are the set of available functions(tools):\\n\n",
    "    def get_files_in_folder(root_dir) \\n\n",
    "    def get_file_types(file_list) \\n\n",
    "    def organize_files(type_dict) ''')\n",
    "    \n",
    "    with gr.Column():\n",
    "        dropdown = gr.Dropdown(choices=['''scans a folder called MyDownlads, identify file types and \n",
    "move them into categorized folders (e.g., PDFs, images, code files, etc)'''], label=\"Select an option\", interactive=True)\n",
    "        text_input = gr.Textbox(label=\"Or enter your text\", interactive=True, visible=False)        \n",
    "        input_button = gr.Button(\"Submit\")\n",
    "    output1 = gr.Textbox(label=\"Your task broken into smaller text\")\n",
    "    output2 = gr.Textbox(label=\"Functions corresponding to your task from predefined toolbox\")\n",
    "    execute_button = gr.Button(\"Execute\", visible=False)\n",
    "\n",
    "    def handle_submit(option, text):\n",
    "        out1, out2 = process_input(option, text)\n",
    "        return out1, out2, gr.update(visible=True)\n",
    "    \n",
    "    input_button.click(handle_submit, inputs=[dropdown, text_input], \n",
    "                       outputs=[output1, output2, execute_button])\n",
    "    \n",
    "    execute_button.click(handle_execute, inputs=[output2])\n",
    "\n",
    "\n",
    "demo.launch()\n"
   ]
  }
 ],
 "metadata": {
  "kernelspec": {
   "display_name": "Python 3",
   "language": "python",
   "name": "python3"
  },
  "language_info": {
   "codemirror_mode": {
    "name": "ipython",
    "version": 3
   },
   "file_extension": ".py",
   "mimetype": "text/x-python",
   "name": "python",
   "nbconvert_exporter": "python",
   "pygments_lexer": "ipython3",
   "version": "3.11.3"
  }
 },
 "nbformat": 4,
 "nbformat_minor": 2
}
